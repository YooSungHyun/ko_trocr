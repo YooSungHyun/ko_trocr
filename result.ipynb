{
 "cells": [
  {
   "cell_type": "code",
   "execution_count": null,
   "metadata": {},
   "outputs": [],
   "source": [
    "import pandas as pd\n",
    "from utils.dataset_utils import get_dataset\n",
    "import random\n",
    "from literal import RawDataColumns, DatasetColumns"
   ]
  },
  {
   "cell_type": "code",
   "execution_count": null,
   "metadata": {},
   "outputs": [],
   "source": [
    "before = pd.read_csv('./sub/2023-01-31-17-41.csv')\n",
    "test_dataset = get_dataset('data/preprocess/test.csv')"
   ]
  },
  {
   "cell_type": "code",
   "execution_count": null,
   "metadata": {},
   "outputs": [],
   "source": [
    "rand_idx = random.randint(0,len(before)-1)\n",
    "print(before['label'][rand_idx])\n",
    "test_dataset[rand_idx]['pixel_values']"
   ]
  },
  {
   "cell_type": "code",
   "execution_count": null,
   "metadata": {},
   "outputs": [],
   "source": []
  }
 ],
 "metadata": {
  "kernelspec": {
   "display_name": ".venv",
   "language": "python",
   "name": "python3"
  },
  "language_info": {
   "codemirror_mode": {
    "name": "ipython",
    "version": 3
   },
   "file_extension": ".py",
   "mimetype": "text/x-python",
   "name": "python",
   "nbconvert_exporter": "python",
   "pygments_lexer": "ipython3",
   "version": "3.8.16"
  },
  "orig_nbformat": 4,
  "vscode": {
   "interpreter": {
    "hash": "c54cba39335507b29b8307692670cf40e69a334c2bc6175f9150ecefc2a255f2"
   }
  }
 },
 "nbformat": 4,
 "nbformat_minor": 2
}
