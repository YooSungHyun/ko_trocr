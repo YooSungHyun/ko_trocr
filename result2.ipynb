{
 "cells": [
  {
   "cell_type": "code",
   "execution_count": null,
   "metadata": {},
   "outputs": [],
   "source": [
    "import pandas as pd\n",
    "from utils.dataset_utils import get_dataset\n",
    "import random\n",
    "from literal import RawDataColumns, DatasetColumns"
   ]
  },
  {
   "cell_type": "code",
   "execution_count": null,
   "metadata": {},
   "outputs": [],
   "source": [
    "before = pd.read_csv('sub/1epoch_76.csv')\n",
    "after = pd.read_csv('sub/2023-02-12-02-06.csv')\n",
    "# after = pd.read_csv(\"sub/latest_result.csv\")\n",
    "test_dataset = get_dataset('data/preprocess/test.csv')\n",
    "\n",
    "diff = []\n",
    "for i in range(len(before)):\n",
    "    if not before[RawDataColumns.label][i] == after[RawDataColumns.label][i]:\n",
    "        diff.append(i)\n",
    "print(len(diff))"
   ]
  },
  {
   "cell_type": "code",
   "execution_count": null,
   "metadata": {},
   "outputs": [],
   "source": [
    "rand_idx = random.randint(0,len(diff)-1)\n",
    "diff_idx = diff[rand_idx]\n",
    "\n",
    "print(f'idx: {diff_idx}\\nbefore: {before[RawDataColumns.label][diff_idx]} <-> after: {after[RawDataColumns.label][diff_idx]}')\n",
    "test_dataset[diff_idx][DatasetColumns.pixel_values]"
   ]
  },
  {
   "cell_type": "code",
   "execution_count": null,
   "metadata": {},
   "outputs": [],
   "source": [
    "train_dataset = get_dataset('data/preprocess/fold0_train.csv')\n"
   ]
  },
  {
   "cell_type": "code",
   "execution_count": null,
   "metadata": {},
   "outputs": [],
   "source": [
    "len(set(after[\"label\"]) - set(train_dataset[\"labels\"]))"
   ]
  }
 ],
 "metadata": {
  "kernelspec": {
   "display_name": ".vlight",
   "language": "python",
   "name": "python3"
  },
  "language_info": {
   "codemirror_mode": {
    "name": "ipython",
    "version": 3
   },
   "file_extension": ".py",
   "mimetype": "text/x-python",
   "name": "python",
   "nbconvert_exporter": "python",
   "pygments_lexer": "ipython3",
   "version": "3.8.16"
  },
  "orig_nbformat": 4,
  "vscode": {
   "interpreter": {
    "hash": "6cfe2dea76701fe4a84da0c0e862de74293a30d381a3ffccd7d6dfb0520ebb4f"
   }
  }
 },
 "nbformat": 4,
 "nbformat_minor": 2
}
