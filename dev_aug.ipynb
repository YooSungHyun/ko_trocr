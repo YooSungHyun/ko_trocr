{
 "cells": [
  {
   "cell_type": "code",
   "execution_count": null,
   "metadata": {},
   "outputs": [],
   "source": [
    "from utils.dataset_utils import get_dataset\n",
    "from literal import DatasetColumns\n",
    "import random\n",
    "from utils.augmentation import RandomConcat, TACo\n",
    "from PIL import Image\n",
    "import numpy as np\n",
    "import pandas as pd\n",
    "import cv2\n",
    "from matplotlib import pyplot as plt\n",
    "from torchvision.transforms import Compose"
   ]
  },
  {
   "cell_type": "code",
   "execution_count": null,
   "metadata": {},
   "outputs": [],
   "source": [
    "from transformers import AutoImageProcessor\n",
    "image_processor = AutoImageProcessor.from_pretrained(\"microsoft/swinv2-large-patch4-window12-192-22k\")\n",
    "random_concat = RandomConcat(aug_with_compose_prob=1.0,image_size=list(image_processor.size.values()),train_csv_path=\"data/preprocess/fold0_train.csv\")\n",
    "taco = TACo()"
   ]
  },
  {
   "cell_type": "code",
   "execution_count": null,
   "metadata": {},
   "outputs": [],
   "source": [
    "dataset = get_dataset('data/preprocess/fold0_train.csv')\n",
    "dataset.set_transform(Compose([random_concat.augmentation, taco.augmentation]))"
   ]
  },
  {
   "cell_type": "code",
   "execution_count": null,
   "metadata": {},
   "outputs": [],
   "source": [
    "rand_idx = random.randint(0,len(dataset)-1)\n",
    "plt.imshow(cv2.resize(np.array(dataset[rand_idx]['pixel_values']),list(image_processor.size.values())))"
   ]
  },
  {
   "cell_type": "code",
   "execution_count": null,
   "metadata": {},
   "outputs": [],
   "source": [
    "rand_idx"
   ]
  },
  {
   "cell_type": "code",
   "execution_count": null,
   "metadata": {},
   "outputs": [],
   "source": [
    "dataset[10000]['pixel_values']"
   ]
  },
  {
   "cell_type": "code",
   "execution_count": null,
   "metadata": {},
   "outputs": [],
   "source": [
    "test = np.array([1,2,3])\n",
    "test.astype(np.float32)"
   ]
  }
 ],
 "metadata": {
  "kernelspec": {
   "display_name": ".vlight",
   "language": "python",
   "name": "python3"
  },
  "language_info": {
   "codemirror_mode": {
    "name": "ipython",
    "version": 3
   },
   "file_extension": ".py",
   "mimetype": "text/x-python",
   "name": "python",
   "nbconvert_exporter": "python",
   "pygments_lexer": "ipython3",
   "version": "3.8.16"
  },
  "orig_nbformat": 4,
  "vscode": {
   "interpreter": {
    "hash": "6cfe2dea76701fe4a84da0c0e862de74293a30d381a3ffccd7d6dfb0520ebb4f"
   }
  }
 },
 "nbformat": 4,
 "nbformat_minor": 2
}
